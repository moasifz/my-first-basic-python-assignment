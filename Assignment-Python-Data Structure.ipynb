{
 "cells": [
  {
   "cell_type": "code",
   "execution_count": null,
   "id": "0362253a-8d7f-4b54-9351-46c777e6ef1b",
   "metadata": {},
   "outputs": [],
   "source": [
    "#Q-1 Discuss string slicing and provide examples.\n",
    "#ANS- String slicing is a powerful feature in a python,that allows you to extract substrings from a given string using a simple and readable syntax.\n",
    "#Examples, let's use the string '\"Hello World!\"'\n",
    "#String slicing allows you to easily extract and manipulate substrings.\n",
    "#1 -B9asic sliding\n",
    "s = \"Hello, World!\"\n",
    "print(s[0:5])"
   ]
  },
  {
   "cell_type": "raw",
   "id": "4da7842c-2ce0-485b-b817-3e97438efa3f",
   "metadata": {},
   "source": [
    "print(s[:5])"
   ]
  },
  {
   "cell_type": "code",
   "execution_count": null,
   "id": "97ff91a8-ff54-455b-b77a-ae13fdeab17f",
   "metadata": {},
   "outputs": [],
   "source": [
    "print(s[7:])"
   ]
  },
  {
   "cell_type": "code",
   "execution_count": null,
   "id": "33251dc9-bfa2-4fc2-946e-787122e9f8bc",
   "metadata": {},
   "outputs": [],
   "source": [
    "#3 Using Step\n",
    "print(s[::3])"
   ]
  },
  {
   "cell_type": "code",
   "execution_count": null,
   "id": "8b9eca75-4366-4bc4-8217-00babbef597a",
   "metadata": {},
   "outputs": [],
   "source": [
    "#Q-2 Explain the key features of lists in python.\n",
    "#Ans- Lists are the most versatile and commonly used data structures in python.Lists are ordered collection of items.Here are the key features of lists in python.\n",
    "#1- Ordered collection\n",
    "my_list = [5, 10, 15, 20]\n",
    "print(my_list[1])"
   ]
  },
  {
   "cell_type": "code",
   "execution_count": null,
   "id": "b421029e-1451-4fad-a861-56f56fc45d49",
   "metadata": {},
   "outputs": [],
   "source": [
    "#2-Mutable\n",
    "my_list = [1, 2, 3]\n",
    "my_list[1] = 20\n",
    "print(my_list)"
   ]
  },
  {
   "cell_type": "code",
   "execution_count": null,
   "id": "a81a03be-ab6b-4ff8-9b19-52d82b11185b",
   "metadata": {},
   "outputs": [],
   "source": [
    "#3-Dynamic sizing\n",
    "my_list = [1, 2, 3]\n",
    "my_list.append(4)\n",
    "print(my_list)"
   ]
  },
  {
   "cell_type": "code",
   "execution_count": null,
   "id": "d6047b93-25fc-42bc-9696-a2e211c88b69",
   "metadata": {},
   "outputs": [],
   "source": [
    "#4-Conditional list comprehension\n",
    "email_address = [\"aj@gmail.com\", \"sh@yahoo.com\", \"rj@yahoo.com\", \"mj@gmail.com\"]\n",
    "[email for email in email_address if email.endswith(\"@yahoo.com\")] "
   ]
  },
  {
   "cell_type": "code",
   "execution_count": null,
   "id": "da82ef34-6e17-4e93-bbbc-c9296c3527bd",
   "metadata": {},
   "outputs": [],
   "source": [
    "#5-Nested list comprehension\n",
    "pairs = []\n",
    "for x in [1, 2, 3]:\n",
    "    for y in [4, 5, 6]:\n",
    "        pairs.append([x, y])\n",
    "        \n",
    "pairs\n"
   ]
  },
  {
   "cell_type": "code",
   "execution_count": null,
   "id": "d4db437c-01b3-4647-b86f-fd30396574c3",
   "metadata": {},
   "outputs": [],
   "source": [
    "#Q-3 Describe how to access,modify and delete elements in a list with examples.\n",
    "#ANS-Accessing,modifying and deleting elements in a python list are fundamental operations.\n",
    "#Examples- Accessing elements\n",
    "my_list = ['apple', 'banana', 'pineapple']\n",
    "print(my_list[1])"
   ]
  },
  {
   "cell_type": "code",
   "execution_count": null,
   "id": "5a197dee-aec7-418c-bb78-fe9638af1fe6",
   "metadata": {},
   "outputs": [],
   "source": [
    "print(my_list[2])"
   ]
  },
  {
   "cell_type": "code",
   "execution_count": null,
   "id": "90ad3173-4b0c-4741-a9e4-1c910dc82ec0",
   "metadata": {},
   "outputs": [],
   "source": [
    "print(my_list[1:3])"
   ]
  },
  {
   "cell_type": "code",
   "execution_count": null,
   "id": "8bc7036f-e62c-4b08-a49a-3739ee2a9573",
   "metadata": {},
   "outputs": [],
   "source": [
    "#Modifying elements\n",
    "my_list = [5, 10, 15]\n",
    "my_list[1] = 50\n",
    "print(my_list)"
   ]
  },
  {
   "cell_type": "code",
   "execution_count": null,
   "id": "1c8d39f7-6196-48c1-b179-8f8da3843f0d",
   "metadata": {},
   "outputs": [],
   "source": [
    "my_list = [1, 2, 3, 4]\n",
    "my_list[1:3] = [25, 30]\n",
    "print(my_list)"
   ]
  },
  {
   "cell_type": "code",
   "execution_count": null,
   "id": "53d079b5-9653-49bc-b82a-38742f0c2175",
   "metadata": {},
   "outputs": [],
   "source": [
    "#Append\n",
    "my_list = [1, 2, 3]\n",
    "my_list.append(4)\n",
    "print(my_list)"
   ]
  },
  {
   "cell_type": "code",
   "execution_count": null,
   "id": "55f966c3-15c6-4d13-9936-a191261ed1a7",
   "metadata": {},
   "outputs": [],
   "source": [
    "# Deleting elements\n",
    "my_list = [1, 2, 3, 4]\n",
    "del my_list[2]\n",
    "print(my_list)"
   ]
  },
  {
   "cell_type": "code",
   "execution_count": null,
   "id": "e11a2e34-9107-4d53-9f97-23cb66ae62bd",
   "metadata": {},
   "outputs": [],
   "source": [
    "#Using remove method\n",
    "my_list = [1, 2, 3, 2]\n",
    "my_list.remove(2)\n",
    "print(my_list)"
   ]
  },
  {
   "cell_type": "code",
   "execution_count": null,
   "id": "49a3d5db-5d64-4d6b-a78a-be81867fee18",
   "metadata": {},
   "outputs": [],
   "source": [
    "#Q-4 Compare and contrast tuples and lists with examples.\n",
    "#ANS- Tuples and lists are both fundamental data structures in python used to store collection of items.\n",
    "# Here is a comparison of tuples and list with examples to define their differences and similarities.\n",
    "# Lists (mutable)\n",
    "my_list = [1, 2, 3]\n",
    "my_list[1] = 50\n",
    "my_list.append(5)\n",
    "print(my_list)"
   ]
  },
  {
   "cell_type": "code",
   "execution_count": null,
   "id": "1e662a64-befd-452f-949b-833919bdd90e",
   "metadata": {},
   "outputs": [],
   "source": [
    "# Tuples (immutable)\n",
    "my_tuple = [2, 3, 5]\n",
    "my_tuple[1] = 50\n",
    "my_tuple.append(4)\n",
    "print(my_tuple)"
   ]
  },
  {
   "cell_type": "code",
   "execution_count": null,
   "id": "3e3bef19-860d-43e7-a8f7-2202c04c98a1",
   "metadata": {},
   "outputs": [],
   "source": [
    "# Use cases \n",
    "# Lists are used when you need a collection of items that may change over time and Tuples are used for fixed collection of items that should not change.\n",
    "# Methods-\n",
    "# Lists methods\n",
    "my_list = [2, 3, 5]\n",
    "my_list.append(4)\n",
    "my_list.remove(2)\n",
    "print(my_list)"
   ]
  },
  {
   "cell_type": "code",
   "execution_count": null,
   "id": "37339fbc-0f32-4a18-ace2-59c5bb509937",
   "metadata": {},
   "outputs": [],
   "source": [
    "# Tuples methods \n",
    "my_tuple = (1, 2 ,3, 3)\n",
    "print(my_tuple.count(2))\n",
    "        "
   ]
  },
  {
   "cell_type": "code",
   "execution_count": null,
   "id": "5e123076-eb7a-4b9d-bd17-5814b8b522a5",
   "metadata": {},
   "outputs": [],
   "source": [
    "print(my_tuple.index(3))"
   ]
  },
  {
   "cell_type": "code",
   "execution_count": null,
   "id": "01e16159-38f5-4005-b1d8-ff44e7c8e135",
   "metadata": {},
   "outputs": [],
   "source": [
    "# Immutability and hashing\n",
    "# Lists are not hashable because they are mutable but tuples are also hashable\n",
    "# Lists\n",
    "my_dict = {}\n",
    "my_dict[[1, 2, 3]] = \"value\""
   ]
  },
  {
   "cell_type": "code",
   "execution_count": null,
   "id": "8efdcbb4-97e1-4ec6-a275-5b6223ec2a0d",
   "metadata": {},
   "outputs": [],
   "source": [
    "# Tuples\n",
    "my_dict = {}\n",
    "my_dict[(1, 2, 3)] = \"value\"\n",
    "print(my_dict)"
   ]
  },
  {
   "cell_type": "code",
   "execution_count": null,
   "id": "7e948203-25a3-4308-8039-5a4735f214f7",
   "metadata": {},
   "outputs": [],
   "source": [
    "# Iteration (both tuples and lists support iteration)\n",
    "my_list = [1, 2, 3]\n",
    "for item in my_list:\n",
    "    print(item)"
   ]
  },
  {
   "cell_type": "code",
   "execution_count": null,
   "id": "55e680c6-cf1f-4f87-8dc8-694784913a6f",
   "metadata": {},
   "outputs": [],
   "source": [
    "my_tuple = (2, 3, 4)\n",
    "for item in my_tuple:\n",
    "    print(item)\n",
    "        "
   ]
  },
  {
   "cell_type": "code",
   "execution_count": null,
   "id": "fd95cb3c-c075-4415-86f5-30b0966cb1b6",
   "metadata": {},
   "outputs": [],
   "source": [
    "#Q-5 Describe the key features of sets and provide example of their use.\n",
    "#ANS- Sets are fundamental concepts in mathematics and computer science, characterized by their simplicty and utulity.\n",
    "# Here are the key faetures of sets\n",
    "# UNION- Combine elements from two sets excluding duplicates\n",
    "# INTERSECTION- Only common elements between sets \n",
    "# DIFFERENCE- It return the elements that is present in first set and not in second\n",
    "# SYMMETRIC DIFFERENCE- It return elements that are present in either of sets but not in both elements"
   ]
  },
  {
   "cell_type": "code",
   "execution_count": null,
   "id": "9f61ab5b-d4e8-4960-b2e9-4b93e83fd318",
   "metadata": {},
   "outputs": [],
   "source": [
    "si = {\"hiking\", \"reading\", \"coding\"}\n",
    "s2 = {\"coding\", \"dancing\", \"photography\"}"
   ]
  },
  {
   "cell_type": "code",
   "execution_count": null,
   "id": "ae86d348-cb2a-4b5e-b1d6-67607f494ea6",
   "metadata": {},
   "outputs": [],
   "source": [
    "si"
   ]
  },
  {
   "cell_type": "code",
   "execution_count": null,
   "id": "93b982d9-b0e7-4c97-ae3f-6b2848409411",
   "metadata": {},
   "outputs": [],
   "source": [
    "s2"
   ]
  },
  {
   "cell_type": "code",
   "execution_count": null,
   "id": "0092b848-5a3d-427a-a5b2-44a62f84cc69",
   "metadata": {},
   "outputs": [],
   "source": [
    "# UNION combine all elements\n",
    "si | s2"
   ]
  },
  {
   "cell_type": "code",
   "execution_count": null,
   "id": "f2fec232-1dda-4fac-8f76-20239eeb9a75",
   "metadata": {},
   "outputs": [],
   "source": [
    "# INTERSECTION>> Common elements\n",
    "si & s2"
   ]
  },
  {
   "cell_type": "code",
   "execution_count": null,
   "id": "8c9327ab-ebf0-4347-b251-7f3b5d21302f",
   "metadata": {},
   "outputs": [],
   "source": [
    "# DIFFERENCE>> Elements in first not in second\n",
    "si - s2"
   ]
  },
  {
   "cell_type": "code",
   "execution_count": null,
   "id": "0b460212-ee1f-432c-b119-b14260a4a3ff",
   "metadata": {},
   "outputs": [],
   "source": [
    "# SYMMETRIC DIFFERENCE\n",
    "si ^ s2"
   ]
  },
  {
   "cell_type": "code",
   "execution_count": null,
   "id": "a2c61f2b-2fb3-4b2d-9a15-01314fa01f5f",
   "metadata": {},
   "outputs": [],
   "source": [
    "# Frozen sets \n",
    "s = {1, 2, 3}\n",
    "s.add (100)"
   ]
  },
  {
   "cell_type": "code",
   "execution_count": null,
   "id": "9778ee8b-f31a-48e8-bb51-d25b97ecebab",
   "metadata": {},
   "outputs": [],
   "source": [
    "s"
   ]
  },
  {
   "cell_type": "code",
   "execution_count": null,
   "id": "7b828aa9-8847-461f-b852-e67cbfa2c7b4",
   "metadata": {},
   "outputs": [],
   "source": [
    "#Q-6 Describe the use cases of tuples and sets in python programming.\n",
    "#ANS- Tuples and sets in python serves important role due to their characteristcs.\n",
    "# USE CASE OF TUPLES>> Use of tuples as a data structure where you don't want to modify the data.\n",
    "empid = (1, 2, 3, 4, 5)\n",
    "empid [1] = 100"
   ]
  },
  {
   "cell_type": "code",
   "execution_count": null,
   "id": "8547ce32-ea96-4b86-951c-3f5167a14ad4",
   "metadata": {},
   "outputs": [],
   "source": [
    "tuple1 = (\"pwskills\", 1, 2, 1, 1, 2.2)\n",
    "tuple1.count(1)"
   ]
  },
  {
   "cell_type": "code",
   "execution_count": null,
   "id": "851b44d6-d36a-4916-9c76-fb16afbfd17c",
   "metadata": {},
   "outputs": [],
   "source": [
    "tuple1.count(\"pwskills\")"
   ]
  },
  {
   "cell_type": "code",
   "execution_count": null,
   "id": "bcd3d871-07c1-4953-b2be-ffa05113180d",
   "metadata": {},
   "outputs": [],
   "source": [
    "tuple1.index(\"pwskills\")"
   ]
  },
  {
   "cell_type": "code",
   "execution_count": null,
   "id": "c3a6d38f-5c61-49b8-8644-91da8df97467",
   "metadata": {},
   "outputs": [],
   "source": [
    "print(tuple1*2)"
   ]
  },
  {
   "cell_type": "code",
   "execution_count": null,
   "id": "16970c7e-d44d-42e4-ba6f-c1a31ff2bbc7",
   "metadata": {},
   "outputs": [],
   "source": [
    "tuple1"
   ]
  },
  {
   "cell_type": "code",
   "execution_count": null,
   "id": "c962448e-af6a-4f4c-a40e-e34f019215ec",
   "metadata": {},
   "outputs": [],
   "source": [
    "tuple1[0:4]"
   ]
  },
  {
   "cell_type": "code",
   "execution_count": null,
   "id": "0af1cf0d-2caf-4fdb-adb7-81818c7d9e7a",
   "metadata": {},
   "outputs": [],
   "source": [
    "tuple1[::-1]"
   ]
  },
  {
   "cell_type": "code",
   "execution_count": null,
   "id": "4142eec1-0b0b-481e-b615-73cb56bc53cc",
   "metadata": {},
   "outputs": [],
   "source": [
    "for i in tuple1:\n",
    "    print (i, type(i))"
   ]
  },
  {
   "cell_type": "code",
   "execution_count": null,
   "id": "bfd3e738-3a78-4329-8640-62e6729ae0ed",
   "metadata": {},
   "outputs": [],
   "source": [
    "t1 = (1, 2, 100, 200, 0, 200)\n",
    "max(t1)"
   ]
  },
  {
   "cell_type": "code",
   "execution_count": null,
   "id": "835008a9-edc9-4667-86c5-3c9490e226eb",
   "metadata": {},
   "outputs": [],
   "source": [
    "min(t1)"
   ]
  },
  {
   "cell_type": "code",
   "execution_count": null,
   "id": "094fcb5c-7dad-4489-b5b1-c265b9ba8586",
   "metadata": {},
   "outputs": [],
   "source": [
    "# USE Case of sets (sets are ordered and unique collection of elements)\n",
    "list1 = [1, 2, 3, \"Apple\", \"Potato\", \"Apple\", \"Potato\"]\n",
    "list1"
   ]
  },
  {
   "cell_type": "code",
   "execution_count": null,
   "id": "e101f42d-252d-49be-8f59-3e52f4802347",
   "metadata": {},
   "outputs": [],
   "source": [
    "list1 = [1, 2, 3, \"Apple\", \"Potato\", \"Apple\", \"Potato\"]\n",
    "s = set(list1)"
   ]
  },
  {
   "cell_type": "code",
   "execution_count": null,
   "id": "90c099db-95f9-414e-957d-c353661debd3",
   "metadata": {},
   "outputs": [],
   "source": [
    "s"
   ]
  },
  {
   "cell_type": "code",
   "execution_count": null,
   "id": "940ac0d3-fb84-41e2-9ca2-72db033caad3",
   "metadata": {},
   "outputs": [],
   "source": [
    "list1 = list(s)"
   ]
  },
  {
   "cell_type": "code",
   "execution_count": null,
   "id": "3cf2a50b-04ff-45b5-ab57-ede290d681c8",
   "metadata": {},
   "outputs": [],
   "source": [
    "list1"
   ]
  },
  {
   "cell_type": "code",
   "execution_count": null,
   "id": "7e1408a6-a658-4352-b3b9-9e715aee5123",
   "metadata": {},
   "outputs": [],
   "source": [
    "s"
   ]
  },
  {
   "cell_type": "code",
   "execution_count": null,
   "id": "74ec0076-5b0f-4e11-98b4-498da8df17cf",
   "metadata": {},
   "outputs": [],
   "source": [
    "s = {1, 1, 2, 2, 3, 4}\n",
    "s"
   ]
  },
  {
   "cell_type": "code",
   "execution_count": null,
   "id": "e1c3c505-d1ba-4090-a0f1-ebd1448e2e45",
   "metadata": {},
   "outputs": [],
   "source": [
    "s = {1, 2, 3, 4, 5, {4, 5, 6}} # unhassable type, it is mutable-list set\n",
    "# immutable data structure has a stable hash values like tuples."
   ]
  },
  {
   "cell_type": "code",
   "execution_count": null,
   "id": "423c65e8-9256-47a0-a427-3d8907d1e9ec",
   "metadata": {},
   "outputs": [],
   "source": [
    " {1, 2, 3, 4, 5, (4, 5, 6)} # it did not throw error because tuple is immuatable>>stable hashtype"
   ]
  },
  {
   "cell_type": "code",
   "execution_count": null,
   "id": "2cbdb29e-30a8-489d-a4ef-1b16860ad5c1",
   "metadata": {},
   "outputs": [],
   "source": [
    "for i in s:\n",
    "    print(i)"
   ]
  },
  {
   "cell_type": "code",
   "execution_count": null,
   "id": "c2bad590-7cb1-4ade-8d77-a001d1c6e5e0",
   "metadata": {},
   "outputs": [],
   "source": [
    "# set is mutable\n",
    "s"
   ]
  },
  {
   "cell_type": "code",
   "execution_count": null,
   "id": "63e269f4-321d-43a6-b70d-7797d368df0d",
   "metadata": {},
   "outputs": [],
   "source": [
    "s.add(100)\n",
    "s"
   ]
  },
  {
   "cell_type": "code",
   "execution_count": null,
   "id": "29e41352-64b2-4109-8d81-e828b4c81e69",
   "metadata": {},
   "outputs": [],
   "source": [
    "s."
   ]
  },
  {
   "cell_type": "code",
   "execution_count": null,
   "id": "acc19bcc-1617-4188-9252-8ed014f4aeca",
   "metadata": {},
   "outputs": [],
   "source": [
    "s.pop() # it is not compulsory that it will remove the last element"
   ]
  },
  {
   "cell_type": "code",
   "execution_count": null,
   "id": "2edd4965-53f5-47ec-a5f6-6fbefc3f66ac",
   "metadata": {},
   "outputs": [],
   "source": [
    "s"
   ]
  },
  {
   "cell_type": "code",
   "execution_count": null,
   "id": "d43abf35-dffb-40eb-b584-513b09c0b500",
   "metadata": {},
   "outputs": [],
   "source": [
    "s.remove(3) # it removes a specific elements"
   ]
  },
  {
   "cell_type": "code",
   "execution_count": null,
   "id": "656f3b1e-8aa7-4918-9416-2e5d939fb14b",
   "metadata": {},
   "outputs": [],
   "source": [
    "s"
   ]
  },
  {
   "cell_type": "code",
   "execution_count": null,
   "id": "def161a0-b9fa-4dc6-a87a-d5ee4839077b",
   "metadata": {},
   "outputs": [],
   "source": [
    "s.update([\"Asif\"])"
   ]
  },
  {
   "cell_type": "code",
   "execution_count": null,
   "id": "294df7de-f1ec-4bc5-828a-d67c2db87bff",
   "metadata": {},
   "outputs": [],
   "source": [
    "s"
   ]
  },
  {
   "cell_type": "code",
   "execution_count": null,
   "id": "6675f483-4ce0-4a0b-9b73-f22731911cbd",
   "metadata": {},
   "outputs": [],
   "source": [
    "s.update([2, 3])"
   ]
  },
  {
   "cell_type": "code",
   "execution_count": null,
   "id": "a5d2e601-34c9-4832-8c26-d5a5dd4c2785",
   "metadata": {},
   "outputs": [],
   "source": [
    "s"
   ]
  },
  {
   "cell_type": "code",
   "execution_count": null,
   "id": "a00a2cd8-57e0-4e64-bfcc-02596a9a7435",
   "metadata": {},
   "outputs": [],
   "source": [
    "# Q- 7 Describe how to add, modify, and delete items in a dictionary with examples.\n",
    "#ANS- Dictionary is a data structure that stores data as a key pair. key are unique and immutable.\n",
    "d = {}\n",
    "type(d)"
   ]
  },
  {
   "cell_type": "code",
   "execution_count": null,
   "id": "ff0fc5c0-9315-4f46-8204-08a0c7a56215",
   "metadata": {},
   "outputs": [],
   "source": [
    "# Adding items \n",
    "# Example\n",
    "my_dict = {'a': 1, 'b': 2}\n",
    "my_dict['c'] = 5"
   ]
  },
  {
   "cell_type": "code",
   "execution_count": null,
   "id": "4b091227-fd64-4ecc-a3de-647339db3f50",
   "metadata": {},
   "outputs": [],
   "source": [
    "print(my_dict)"
   ]
  },
  {
   "cell_type": "code",
   "execution_count": null,
   "id": "5359abfa-da79-4e15-8880-389c699d69c4",
   "metadata": {},
   "outputs": [],
   "source": [
    "# Modifying items example\n",
    "my_dict = {'a': 3, 'b': 5}\n",
    "my_dict['b'] = 15"
   ]
  },
  {
   "cell_type": "code",
   "execution_count": null,
   "id": "931111a9-20c5-41f5-900d-e0cdadbd6c70",
   "metadata": {},
   "outputs": [],
   "source": [
    "print(my_dict)"
   ]
  },
  {
   "cell_type": "code",
   "execution_count": null,
   "id": "050a5e11-5b91-4cdd-ac34-3d627ee55863",
   "metadata": {},
   "outputs": [],
   "source": [
    "# Deleting items example\n",
    "del d # delete the whole dictionary"
   ]
  },
  {
   "cell_type": "code",
   "execution_count": null,
   "id": "30de6552-9d57-4aa4-84b4-e345c4256d80",
   "metadata": {},
   "outputs": [],
   "source": [
    "d = {'name': ['Asif', 'Ajay', 1, 2], 'email': 'as@gmail.com', 'contact': (1234, 6789)}\n",
    "d"
   ]
  },
  {
   "cell_type": "code",
   "execution_count": null,
   "id": "97f0db4c-04dd-4105-98ef-355db45de087",
   "metadata": {},
   "outputs": [],
   "source": [
    "d.clear() # empty dictionary"
   ]
  },
  {
   "cell_type": "code",
   "execution_count": null,
   "id": "22216d0b-0b22-46a1-88eb-efcb140aff7a",
   "metadata": {},
   "outputs": [],
   "source": [
    "d"
   ]
  },
  {
   "cell_type": "code",
   "execution_count": null,
   "id": "6072988e-f91d-4f2f-b3e1-494f59d31a97",
   "metadata": {},
   "outputs": [],
   "source": [
    "# Q- 8 Discuss the importance of dictionary keys being immutable and provide examples.\n",
    "#ANS- In python dictionary keys must be immutable because thier immutability ensures that the dictionary's integrity is maintained\n",
    "# Importance of immutable keys( example) \n",
    "# if i used list as a key and modified it, the dictionary would no longer be able to find the item correctly.\n",
    "# Tuples,strings and numbers are hashable and can be used as key because their hash vale can't be change.\n",
    "# Examples 1\n",
    "# using immutable keys\n",
    "my_dict = {('a', 'b'): 10, 20: 'answer'}\n",
    "print(my_dict[('a', 'b')])"
   ]
  },
  {
   "cell_type": "code",
   "execution_count": null,
   "id": "369c9f74-8fc1-4140-90a6-c69b07689183",
   "metadata": {},
   "outputs": [],
   "source": [
    "print(my_dict[20])"
   ]
  },
  {
   "cell_type": "code",
   "execution_count": 88,
   "id": "e70a3fac-fe1a-4dfd-9448-a2f82534565f",
   "metadata": {},
   "outputs": [
    {
     "ename": "TypeError",
     "evalue": "unhashable type: 'list'",
     "output_type": "error",
     "traceback": [
      "\u001b[0;31m---------------------------------------------------------------------------\u001b[0m",
      "\u001b[0;31mTypeError\u001b[0m                                 Traceback (most recent call last)",
      "Cell \u001b[0;32mIn[88], line 2\u001b[0m\n\u001b[1;32m      1\u001b[0m \u001b[38;5;66;03m# using mutable keys \u001b[39;00m\n\u001b[0;32m----> 2\u001b[0m my_dict \u001b[38;5;241m=\u001b[39m {[\u001b[38;5;241m2\u001b[39m, \u001b[38;5;241m3\u001b[39m]: \u001b[38;5;124m'\u001b[39m\u001b[38;5;124mvalue\u001b[39m\u001b[38;5;124m'\u001b[39m} \u001b[38;5;66;03m# raise a type error\u001b[39;00m\n",
      "\u001b[0;31mTypeError\u001b[0m: unhashable type: 'list'"
     ]
    }
   ],
   "source": [
    "# using mutable keys \n",
    "my_dict = {[2, 3]: 'value'} # raise a type error"
   ]
  },
  {
   "cell_type": "code",
   "execution_count": null,
   "id": "6e46c78d-5a79-4a3c-90d3-4d5f21a59430",
   "metadata": {},
   "outputs": [],
   "source": [
    "# Lists are mutable and can't be used as a dictionary keys"
   ]
  },
  {
   "cell_type": "code",
   "execution_count": 86,
   "id": "6c95e15d-56ec-4c54-bbbc-c671426e97ce",
   "metadata": {},
   "outputs": [],
   "source": [
    "# using strings and numbers key\n",
    "my_dict = {'Key1': 'value1', 200: 'value2'}"
   ]
  },
  {
   "cell_type": "code",
   "execution_count": 89,
   "id": "12f7d154-3a71-4dac-8752-d3c575bfec49",
   "metadata": {},
   "outputs": [
    {
     "name": "stdout",
     "output_type": "stream",
     "text": [
      "value1\n"
     ]
    }
   ],
   "source": [
    "print(my_dict['Key1'])"
   ]
  },
  {
   "cell_type": "code",
   "execution_count": null,
   "id": "8a948725-bc51-4282-b9bc-2b2f7d798e70",
   "metadata": {},
   "outputs": [],
   "source": [
    "PRIN"
   ]
  }
 ],
 "metadata": {
  "kernelspec": {
   "display_name": "Python 3 (ipykernel)",
   "language": "python",
   "name": "python3"
  },
  "language_info": {
   "codemirror_mode": {
    "name": "ipython",
    "version": 3
   },
   "file_extension": ".py",
   "mimetype": "text/x-python",
   "name": "python",
   "nbconvert_exporter": "python",
   "pygments_lexer": "ipython3",
   "version": "3.10.8"
  }
 },
 "nbformat": 4,
 "nbformat_minor": 5
}
