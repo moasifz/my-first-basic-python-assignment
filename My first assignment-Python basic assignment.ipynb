{
 "cells": [
  {
   "cell_type": "code",
   "execution_count": null,
   "id": "460366f3-1cd4-42ab-b0e2-da614d167fda",
   "metadata": {},
   "outputs": [],
   "source": [
    "Q-1Explain the key features of Python that make it a popular choice for programming.\n",
    "\n",
    "Ans-Key features of python that make it popular choice of programming.\n",
    "1-Python is a open source and free software for learning everyone.\n",
    "2-One of most python important feature is it's object-oriented methodology.\n",
    "3-It's a vast collection of libraries.\n",
    "4-python runs on every platform unchanged.\n",
    "5-Python is a very high programming language."
   ]
  },
  {
   "cell_type": "code",
   "execution_count": null,
   "id": "a4ad6995-ce26-4576-9490-2359dbed5ae8",
   "metadata": {},
   "outputs": [],
   "source": [
    "Q-2 Describe the role of predefined keywords in python  and provide examples of how they are used in program.\n",
    "\n",
    "Ans- There are some examples of predefined keywords:-\n",
    "  #False     await     import     pass     else\n",
    "    none     except     break     raise    in\n",
    "    true     finally    class     is       return  \n",
    "    and      continue   lamda     try      for\n",
    "    as       from       def       while    nonlocal\n",
    "    assert   del        not       with     global\n",
    "    elif     if         assync    or       yield"
   ]
  },
  {
   "cell_type": "code",
   "execution_count": null,
   "id": "59cb5a7f-8c40-484d-a027-67271ccb9720",
   "metadata": {},
   "outputs": [],
   "source": [
    "# 3- Compare and contrast mutable and immutable objects in python with examples.\n",
    "\n",
    "\n",
    "#ans-Mutable are those objects whose values can be changed\n",
    "#example-list , set , dictionary.\n",
    "li=[1,2,3]\n",
    "li[0]=20\n",
    "li[2]=40\n",
    "li"
   ]
  },
  {
   "cell_type": "code",
   "execution_count": null,
   "id": "30ca8e28-02a5-4cb9-ac50-683a05990b08",
   "metadata": {},
   "outputs": [],
   "source": [
    "s={1,3,4,6}\n",
    "s.add(9)\n",
    "s"
   ]
  },
  {
   "cell_type": "code",
   "execution_count": null,
   "id": "a48ab70f-225a-4262-bce4-e6ebc53c2ee3",
   "metadata": {},
   "outputs": [],
   "source": [
    "#immutable:- immutable objects are those objects whose value can't be chnaged\n",
    "#example:- tuple, string   "
   ]
  },
  {
   "cell_type": "code",
   "execution_count": null,
   "id": "9b13005e-6717-44a6-b75a-9688467f141b",
   "metadata": {},
   "outputs": [],
   "source": [
    "#4 Discuss the different types of operator in python and provide examples of how they are used.\n",
    "\n",
    "#ans-1- Arithmetic operators:-\n",
    "# examples:-+,-,*,**,/,%.\n",
    "a=4\n",
    "b=6\n",
    "a+b=13\n",
    "#2.comparison operators\n",
    "#example:-<,>,>=,<=,==,!=.\n",
    "\n"
   ]
  },
  {
   "cell_type": "code",
   "execution_count": null,
   "id": "20bb4f76-9053-4940-a647-6d44ec084106",
   "metadata": {},
   "outputs": [],
   "source": [
    "#5-Explain the concept of typecasting in python with examples\n",
    "\n",
    "#ans- Type casting is amethod to convert the python variable data type in a cetain datatype.\n",
    "st= \"123\"\n",
    "result=int(st)\n",
    "result\n",
    "type(result)\n"
   ]
  },
  {
   "cell_type": "code",
   "execution_count": null,
   "id": "5919ccab-08ad-4eca-9945-bd1c2840c56f",
   "metadata": {},
   "outputs": [],
   "source": [
    "int=123\n",
    "result=float(int)\n",
    "result\n",
    "type(result)"
   ]
  },
  {
   "cell_type": "code",
   "execution_count": null,
   "id": "58606c15-d33d-4ef3-a4c8-af0319e51077",
   "metadata": {},
   "outputs": [],
   "source": [
    "fl=56.6\n",
    "result=int(fl)\n",
    "result\n",
    "type(result)\n"
   ]
  },
  {
   "cell_type": "code",
   "execution_count": null,
   "id": "81bbf9ba-99e4-42a8-a742-f563b068943b",
   "metadata": {},
   "outputs": [],
   "source": [
    "tup=(1,2,3,4)\n",
    "result=list(tup)\n",
    "result\n",
    "type (result)\n"
   ]
  },
  {
   "cell_type": "code",
   "execution_count": null,
   "id": "c0aeda82-abb3-4beb-b3be-b5108b94b1a5",
   "metadata": {},
   "outputs": [],
   "source": [
    "li=[1,2,3,4]\n",
    "result=tuple(li)\n",
    "result\n",
    "type(result)"
   ]
  },
  {
   "cell_type": "code",
   "execution_count": null,
   "id": "1f13159d-af54-4610-bb4c-bfa5dc1f34cb",
   "metadata": {},
   "outputs": [],
   "source": [
    "#6"
   ]
  }
 ],
 "metadata": {
  "kernelspec": {
   "display_name": "Python 3 (ipykernel)",
   "language": "python",
   "name": "python3"
  },
  "language_info": {
   "codemirror_mode": {
    "name": "ipython",
    "version": 3
   },
   "file_extension": ".py",
   "mimetype": "text/x-python",
   "name": "python",
   "nbconvert_exporter": "python",
   "pygments_lexer": "ipython3",
   "version": "3.10.8"
  }
 },
 "nbformat": 4,
 "nbformat_minor": 5
}
