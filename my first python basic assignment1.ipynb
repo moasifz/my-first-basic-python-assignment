{
  "metadata": {
    "kernelspec": {
      "name": "python",
      "display_name": "Python (Pyodide)",
      "language": "python"
    },
    "language_info": {
      "codemirror_mode": {
        "name": "python",
        "version": 3
      },
      "file_extension": ".py",
      "mimetype": "text/x-python",
      "name": "python",
      "nbconvert_exporter": "python",
      "pygments_lexer": "ipython3",
      "version": "3.8"
    }
  },
  "nbformat_minor": 5,
  "nbformat": 4,
  "cells": [
    {
      "id": "460366f3-1cd4-42ab-b0e2-da614d167fda",
      "cell_type": "code",
      "source": "Q-1Explain the key features of Python that make it a popular choice for programming.\n\nAns-Key features of python that make it popular choice of programming.\n1-Python is a open source and free software for learning everyone.\n2-One of most python important feature is it's object-oriented methodology.\n3-It's a vast collection of libraries.\n4-python runs on every platform unchanged.\n5-Python is a very high programming language.",
      "metadata": {},
      "outputs": [],
      "execution_count": null
    },
    {
      "id": "a4ad6995-ce26-4576-9490-2359dbed5ae8",
      "cell_type": "code",
      "source": "Q-2 Describe the role of predefined keywords in python  and provide examples of how they are used in program.\n\nAns- There are some examples of predefined keywords:-\n  #False     await     import     pass     else\n    none     except     break     raise    in\n    true     finally    class     is       return  \n    and      continue   lamda     try      for\n    as       from       def       while    nonlocal\n    assert   del        not       with     global\n    elif     if         assync    or       yield",
      "metadata": {},
      "outputs": [],
      "execution_count": null
    },
    {
      "id": "59cb5a7f-8c40-484d-a027-67271ccb9720",
      "cell_type": "code",
      "source": "# 3- Compare and contrast mutable and immutable objects in python with examples.\n\n\n#ans-Mutable are those objects whose values can be changed\n#example-list , set , dictionary.\nli=[1,2,3]\nli[0]=20\nli[2]=40\nli",
      "metadata": {},
      "outputs": [],
      "execution_count": null
    },
    {
      "id": "30ca8e28-02a5-4cb9-ac50-683a05990b08",
      "cell_type": "code",
      "source": "s={1,3,4,6}\ns.add(9)\ns",
      "metadata": {},
      "outputs": [],
      "execution_count": null
    },
    {
      "id": "a48ab70f-225a-4262-bce4-e6ebc53c2ee3",
      "cell_type": "code",
      "source": "#immutable:- immutable objects are those objects whose value can't be chnaged\n#example:- tuple, string   ",
      "metadata": {},
      "outputs": [],
      "execution_count": null
    },
    {
      "id": "9b13005e-6717-44a6-b75a-9688467f141b",
      "cell_type": "code",
      "source": "#4 Discuss the different types of operator in python and provide examples of how they are used.\n\n#ans-1- Arithmetic operators:-\n# examples:-+,-,*,**,/,%.\na=4\nb=6\na+b=13\n#2.comparison operators\n#example:-<,>,>=,<=,==,!=.\n\n",
      "metadata": {},
      "outputs": [],
      "execution_count": null
    },
    {
      "id": "20bb4f76-9053-4940-a647-6d44ec084106",
      "cell_type": "code",
      "source": "#5-Explain the concept of typecasting in python with examples\n\n#ans- Type casting is amethod to convert the python variable data type in a cetain datatype.\nst= \"123\"\nresult=int(st)\nresult\ntype(result)\n",
      "metadata": {},
      "outputs": [],
      "execution_count": null
    },
    {
      "id": "5919ccab-08ad-4eca-9945-bd1c2840c56f",
      "cell_type": "code",
      "source": "int=123\nresult=float(int)\nresult\ntype(result)",
      "metadata": {},
      "outputs": [],
      "execution_count": null
    },
    {
      "id": "58606c15-d33d-4ef3-a4c8-af0319e51077",
      "cell_type": "code",
      "source": "fl=56.6\nresult=int(fl)\nresult\ntype(result)\n",
      "metadata": {},
      "outputs": [],
      "execution_count": null
    },
    {
      "id": "81bbf9ba-99e4-42a8-a742-f563b068943b",
      "cell_type": "code",
      "source": "tup=(1,2,3,4)\nresult=list(tup)\nresult\ntype (result)\n",
      "metadata": {},
      "outputs": [],
      "execution_count": null
    },
    {
      "id": "c0aeda82-abb3-4beb-b3be-b5108b94b1a5",
      "cell_type": "code",
      "source": "li=[1,2,3,4]\nresult=tuple(li)\nresult\ntype(result)",
      "metadata": {},
      "outputs": [],
      "execution_count": null
    },
    {
      "id": "1f13159d-af54-4610-bb4c-bfa5dc1f34cb",
      "cell_type": "code",
      "source": "#6 How do conditional statements works in python.Illustrate with examples.\n#ans-Conditional statements in python allow you to execute certain blocks of code based on specific conditions.\n#the primarily conditions are if, elif and else.\n# EXAMPLE 1:Simple if-else statement.\nage = 19\n\nif age >= 18:\n    print(\"You are an adult.\")\nelse:\n    print(\"You are a minor.\")",
      "metadata": {
        "trusted": true
      },
      "outputs": [
        {
          "name": "stdout",
          "text": "You are an adult.\n",
          "output_type": "stream"
        }
      ],
      "execution_count": 2
    },
    {
      "id": "4ca4447c-abaf-4e8b-bf80-270bb9bd4729",
      "cell_type": "code",
      "source": "# Example 2:Using elif\nscore = 80\n\nif score >= 90:\n    print(\"Grade: A\")\nelif score >= 80:\n    print(\"Grade: B\")\nelif score >= 70:\n    print(\"Grade: C\")\nelse:\n    print(\"Grade: D\")",
      "metadata": {
        "trusted": true
      },
      "outputs": [
        {
          "name": "stdout",
          "text": "Grade: B\n",
          "output_type": "stream"
        }
      ],
      "execution_count": 3
    },
    {
      "id": "39566eea-ef95-4c18-9d04-a97654552066",
      "cell_type": "code",
      "source": "# Example 3:Multiple conditions\ntemperature = 30\nis_sunny = True\n\nif temperature > 25 and is_sunny:\n    print(\"It's a nice day for the beach!\")\nelse:\n    print(\"Maybe stay inside.\")",
      "metadata": {
        "trusted": true
      },
      "outputs": [
        {
          "name": "stdout",
          "text": "It's a nice day for the beach!\n",
          "output_type": "stream"
        }
      ],
      "execution_count": 4
    },
    {
      "id": "a502901b-a3c5-47fb-b5ee-6100f3b5b7fb",
      "cell_type": "code",
      "source": "#7-Describe the different types of loops in python and their use cases with examples.\n#ans-In python,loops allow we to execute a block of code repeatedly based on a condition.The two primary types of loops are for loops and while loops.\n#For loops:A for loops iterates over a sequence (like a list,tuple,string,or range) and executes a block of code for each item in that sequence.\n#USE CASES:\n#1-Iterating through a list or collection 2-performing an action a specific number of items. 3- processing items in a string\n#EXAMPLE:Iterating through a list\nfruits = [\"apple\", \"banana\", \"orange\"]\n\nfor fruit in fruits:\n    print(fruit)\n",
      "metadata": {
        "trusted": true
      },
      "outputs": [
        {
          "name": "stdout",
          "text": "apple\nbanana\norange\n",
          "output_type": "stream"
        }
      ],
      "execution_count": 5
    },
    {
      "id": "f581db8b-f60e-4373-89c9-8f5d57afe3c4",
      "cell_type": "code",
      "source": "#Example using range\n\nfor i in range(6):\n    print(i)",
      "metadata": {
        "trusted": true
      },
      "outputs": [
        {
          "name": "stdout",
          "text": "0\n1\n2\n3\n4\n5\n",
          "output_type": "stream"
        }
      ],
      "execution_count": 7
    },
    {
      "id": "0a714d2a-6cee-4f23-8c46-ec15e541c646",
      "cell_type": "code",
      "source": "#WHILE LOOPS:A while loop repeatedly executes a block of code as long as specified condition is true:\n#USE CASES:1-When the number of iterations is not known beforehand 2-Continuously checking a condition until it changes(e.g.,waiting for user input)\n#EXAMPLE BASIC WHILE LOOP\ncount = 0\n\nwhile count < 5:\n    print(count)\n    count += 1\n",
      "metadata": {
        "trusted": true
      },
      "outputs": [
        {
          "name": "stdout",
          "text": "0\n1\n2\n3\n4\n",
          "output_type": "stream"
        }
      ],
      "execution_count": 8
    },
    {
      "id": "8cca393f-33dc-462c-b06d-cfd14a5b8b45",
      "cell_type": "code",
      "source": "#Loop control statements\n#break:exit the loop immidiately\n#continue:skips the current iteration and moves to the next one\n#pass:a placeholder that does nothing (useful when a statement is required syntactically).\n#EXAMPLE:USING BREAK AND CONTINUE\n\nfor num in range(10):\n    if num == 5:\n        break # Exit the loop when num is 5\n    if num % 2 == 0:\n        continue  # skip even numbers\n    print(num)    ",
      "metadata": {
        "trusted": true
      },
      "outputs": [
        {
          "name": "stdout",
          "text": "1\n3\n",
          "output_type": "stream"
        }
      ],
      "execution_count": 10
    },
    {
      "id": "c2a2892e-de11-4089-8b5a-0e8d12e4076a",
      "cell_type": "code",
      "source": "",
      "metadata": {
        "trusted": true
      },
      "outputs": [],
      "execution_count": null
    }
  ]
}